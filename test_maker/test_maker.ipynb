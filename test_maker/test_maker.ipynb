{
 "cells": [
  {
   "cell_type": "code",
   "execution_count": 1,
   "metadata": {},
   "outputs": [],
   "source": [
    "import os\n",
    "# Only uncomment/use these once:\n",
    "# os.mkdir(\"output\")\n",
    "# os.mkdir(\"source\") # <------ put Connamacher's HTML file in here"
   ]
  },
  {
   "cell_type": "code",
   "execution_count": 1,
   "metadata": {},
   "outputs": [],
   "source": [
    "source_file = open(\"source/part4tests.html\", \"r\")\n",
    "# print(source_text)"
   ]
  },
  {
   "cell_type": "code",
   "execution_count": 2,
   "metadata": {},
   "outputs": [],
   "source": [
    "results_file = open(\"output/results.txt\", \"w\")"
   ]
  },
  {
   "cell_type": "code",
   "execution_count": 3,
   "metadata": {},
   "outputs": [],
   "source": [
    "line = None\n",
    "test_file = None\n",
    "test_filename_index = 1\n",
    "while line != \"\":\n",
    "    line = source_file.readline()\n",
    "    if line.startswith(\"<p>\"):\n",
    "        results_file.write(line[3:] + \"\\n\") # adding one test case's results to the results file\n",
    "\n",
    "    if \"<pre>\" in line: # a program has started\n",
    "        test_file = open(\"output/testing{idx}.txt\".format(idx=test_filename_index), \"w\")\n",
    "        test_file.write(line[5:])\n",
    "        while not \"</pre>\" in line:\n",
    "            line = source_file.readline()\n",
    "            if not \"</pre>\" in line:\n",
    "                test_file.write(line)\n",
    "            else:\n",
    "                test_file.write(line.replace(\"</pre>\", \"\"))\n",
    "        test_file.close()\n",
    "        test_filename_index += 1"
   ]
  },
  {
   "cell_type": "code",
   "execution_count": 4,
   "metadata": {},
   "outputs": [],
   "source": [
    "results_file.close()"
   ]
  },
  {
   "cell_type": "code",
   "execution_count": null,
   "metadata": {},
   "outputs": [],
   "source": []
  }
 ],
 "metadata": {
  "interpreter": {
   "hash": "40d3a090f54c6569ab1632332b64b2c03c39dcf918b08424e98f38b5ae0af88f"
  },
  "kernelspec": {
   "display_name": "Python 3.8.8 ('base')",
   "language": "python",
   "name": "python3"
  },
  "language_info": {
   "codemirror_mode": {
    "name": "ipython",
    "version": 3
   },
   "file_extension": ".py",
   "mimetype": "text/x-python",
   "name": "python",
   "nbconvert_exporter": "python",
   "pygments_lexer": "ipython3",
   "version": "3.8.8"
  },
  "orig_nbformat": 4
 },
 "nbformat": 4,
 "nbformat_minor": 2
}
